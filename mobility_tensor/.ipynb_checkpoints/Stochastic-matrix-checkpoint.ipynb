{
 "cells": [
  {
   "cell_type": "markdown",
   "metadata": {},
   "source": [
    "## Create a Row-wise stochastic matrix for mobility between regions\n",
    "\n",
    "### David Clarabut (dclarabut@gmail.com)"
   ]
  },
  {
   "cell_type": "code",
   "execution_count": 1,
   "metadata": {},
   "outputs": [],
   "source": [
    "## Import Modules: \n",
    "\n",
    "import numpy as np\n",
    "import matplotlib as mpl\n",
    "import matplotlib.pyplot as plt\n",
    "\n",
    "# uncomment and update with notebook location if using Google Colab:\n",
    "# from google.colab import drive\n",
    "#drive.mount('/content/gdrive')\n",
    "#%cd /content/gdrive/My\\ Drive/Colab_Notebooks/stochastic-matrix-sudhi"
   ]
  },
  {
   "cell_type": "markdown",
   "metadata": {},
   "source": [
    "#### Import Jed's Data"
   ]
  },
  {
   "cell_type": "code",
   "execution_count": 3,
   "metadata": {},
   "outputs": [],
   "source": [
    "PHU_orig = np.loadtxt('i.csv',encoding='utf_8_sig')\n",
    "PHU_dest = np.loadtxt('j.csv',encoding='utf_8_sig')\n",
    "Weeks = np.loadtxt('Weeks.csv',encoding='utf_8_sig')\n",
    "Flows = np.loadtxt('Flows.csv',encoding='utf_8_sig')\n",
    "Locations = np.loadtxt('locations.csv',encoding='utf_8_sig',dtype='str',usecols=0)\n",
    "Locations_numbers = np.loadtxt('phu_numbers.csv',encoding='utf_8_sig')"
   ]
  },
  {
   "cell_type": "markdown",
   "metadata": {},
   "source": [
    "#### Flow matrix based on Jed's data for all PHU's"
   ]
  },
  {
   "cell_type": "code",
   "execution_count": 4,
   "metadata": {},
   "outputs": [],
   "source": [
    "Flowmat = np.empty((34,34,52))\n",
    "Flowmat.fill(np.NaN) # initialize an array of NaN values. \n",
    "counter = 0\n",
    "for i in range(0,len(Flows)):\n",
    "    e1 = int(PHU_dest[i])-1 #destination PHU (on the y axis)\n",
    "    e2 = int(PHU_orig[i])-1 #origin matrix (on the x-axis)\n",
    "    e3 = int(Weeks[i])-1\n",
    "    Flowmat[e1,e2,e3] = Flows[i]\n",
    "Flowmat = Flowmat.astype(np.double) #This allows the nan's in the matrix to be masked later when we plot it. "
   ]
  },
  {
   "cell_type": "markdown",
   "metadata": {},
   "source": [
    "##### Flow Matrx for specific PHUs (Oakville, Hamilton, Brampton, Toronto)"
   ]
  },
  {
   "cell_type": "code",
   "execution_count": 5,
   "metadata": {},
   "outputs": [],
   "source": [
    "# Toronto, Durham, York, Peel\n",
    "Loc_list = [31,2,30,18] #enter the PHU numbers to compute the reduced flow matrix with.\n",
    "num_locs = len(Loc_list)\n",
    "\n",
    "Flowmat_reduced = np.empty((num_locs,num_locs,52))\n",
    "Flowmat_reduced.fill(np.NaN)\n",
    "\n",
    "for i in range(0,num_locs):\n",
    "    for j in range(0,num_locs):\n",
    "        cur_loc1 = Loc_list[i] #obtain the flow magnitudes for all weeks at the current itteration\n",
    "        cur_loc2 = Loc_list[j]\n",
    "        Flowmat_reduced[i,j,:] = Flowmat[cur_loc1,cur_loc2,:]\n",
    "Flowmat_reduced = Flowmat_reduced.astype(np.double)\n",
    "    "
   ]
  },
  {
   "cell_type": "markdown",
   "metadata": {},
   "source": [
    "##### Plot of Flow Matrix (in absolute numbers)"
   ]
  },
  {
   "cell_type": "code",
   "execution_count": 6,
   "metadata": {},
   "outputs": [],
   "source": [
    "## Heat map (absolute numbers) for the reduced flow matrix:\n",
    "\n",
    "# week_list = np.arange(0,52,1)\n",
    "# mpl.rcParams.update({'font.size':16})\n",
    "# for i in week_list:\n",
    "#     plt.figure(i,figsize=(8,8))\n",
    "#     plt.imshow(Flowmat_reduced[:,:,i],cmap='turbo',vmax=200000,vmin=0)\n",
    "#     plt.colorbar()\n",
    "#     plt.xlabel('From region')\n",
    "#     plt.ylabel('To Region')\n",
    "#     plt.title('Week '+str(i+1))\n",
    "#     #plt.savefig('HeatMap/'+str(i)+'.png',bbox_inches='tight')\n",
    "#     #plt.close('all')"
   ]
  },
  {
   "cell_type": "code",
   "execution_count": 7,
   "metadata": {},
   "outputs": [],
   "source": [
    "## Heat Map (All PHUs):\n",
    "\n",
    "# week_list = np.arange(0,52,1)\n",
    "# mpl.rcParams.update({'font.size':16})\n",
    "# for i in week_list: \n",
    "#     plt.figure(i,figsize=(8,8))\n",
    "#     plt.imshow(Flowmat[:,:,i],cmap='turbo',vmax=10000)\n",
    "#     plt.colorbar()\n",
    "#     plt.xlabel('From region')\n",
    "#     plt.ylabel('To Region')\n",
    "#     plt.title('Week '+str(i+1))\n",
    "#     plt.savefig('HeatMap/'+str(i)+'.png',bbox_inches='tight')\n",
    "#     plt.close('all')"
   ]
  },
  {
   "cell_type": "markdown",
   "metadata": {},
   "source": [
    "##### Compute Stochastic Flow Matrix (row-wise):"
   ]
  },
  {
   "cell_type": "code",
   "execution_count": 8,
   "metadata": {},
   "outputs": [],
   "source": [
    "Flowmat_reduced_stochastic = np.empty((num_locs,num_locs,52))\n",
    "Flowmat_reduced_stochastic.fill(np.NaN)\n",
    "\n",
    "for i in range(0,len(Flowmat_reduced[0,0,:])):\n",
    "    for j in range(0,len(Loc_list)):\n",
    "        cur_vec = (Flowmat_reduced[j,:,i])/np.sum(Flowmat_reduced[j,:,i])\n",
    "        Flowmat_reduced_stochastic[j,:,i] = cur_vec"
   ]
  },
  {
   "cell_type": "markdown",
   "metadata": {},
   "source": [
    "##### Plot Stochastic Flow Matrix"
   ]
  },
  {
   "cell_type": "code",
   "execution_count": 9,
   "metadata": {},
   "outputs": [],
   "source": [
    "## Heat map (Stochastic Matrix) for the reduced flow matrix\n",
    "\n",
    "week_list = np.arange(0,52,1)\n",
    "mpl.rcParams.update({'font.size':16})\n",
    "for i in week_list:\n",
    "#     plt.figure(i,figsize=(8,8))\n",
    "#     c = plt.imshow(Flowmat_reduced_stochastic[:,:,i],cmap='turbo',vmax=1,vmin=0)\n",
    "#     plt.colorbar()\n",
    "#     myTicks = ([])\n",
    "#     plt.xticks(myTicks)\n",
    "#     plt.yticks(myTicks)\n",
    "#     plt.xlabel('From region')\n",
    "#     plt.ylabel('To Region')\n",
    "#     plt.title('Week '+str(i+1))\n",
    "\n",
    "#     ## Label with the phu numbers:\n",
    "    \n",
    "#     for ii in range(0,len(Loc_list)): #to region\n",
    "#         for jj in range(0,len(Loc_list)): #from region\n",
    "#             plt.annotate('From'+'\\n'+str(Locations[Loc_list[ii]])+'\\n to'+'\\n'+str(Locations[Loc_list[jj]]), xy=(jj,ii),ha='center', va='center', color='white')\n",
    "    \n",
    "    # Save figures and stochastic matrices\n",
    "#     plt.savefig('HeatMap_Stochastic/'+str(i)+'.eps',bbox_inches='tight')\n",
    "#     plt.close('all')\n",
    "    np.savetxt('Stochastic_matrix/'+'Stochastic_matrix'+str(i)+'.dat',Flowmat_reduced_stochastic[:,:,i])\n"
   ]
  },
  {
   "cell_type": "code",
   "execution_count": null,
   "metadata": {},
   "outputs": [],
   "source": []
  }
 ],
 "metadata": {
  "kernelspec": {
   "display_name": "Python 3 (ipykernel)",
   "language": "python",
   "name": "python3"
  },
  "language_info": {
   "codemirror_mode": {
    "name": "ipython",
    "version": 3
   },
   "file_extension": ".py",
   "mimetype": "text/x-python",
   "name": "python",
   "nbconvert_exporter": "python",
   "pygments_lexer": "ipython3",
   "version": "3.11.5"
  }
 },
 "nbformat": 4,
 "nbformat_minor": 2
}
